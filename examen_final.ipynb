{
 "cells": [
  {
   "cell_type": "markdown",
   "metadata": {},
   "source": [
    "# Examen final\n",
    "\n",
    "Profesor: [Carlos Adrian Alarcon](https://www.linkedin.com/in/carlos-adrian-alarcon-delgado/)\n",
    "\n",
    "Bienvenidos a su examen final.\n",
    "\n",
    "Ahora pondrán a prueba sus conocimientos en analítica predictiva y, al finalizar, estoy muy seguro que se sentirán data scientists consolidados. Recuerden aplicar los conocimientos y recursos que hemos visto a lo largo del curso "
   ]
  },
  {
   "cell_type": "markdown",
   "metadata": {},
   "source": [
    "## Contexto y caso de uso\n",
    "\n",
    "Ustedes son dueños de un restaurante y quieren analizar qué tan contentos están sus clientes con su servicio, por lo que deciden entrenar un modelo para identificar si una persona está triste o está feliz a partir de las imagenes. El dataset lo podrán encontrar [acá](https://www.kaggle.com/datasets/eneskosar19/happy-or-sad-binary-image-classification). Les voy a proveer el código para que puedan correrlo sin problema y puedan tener las imágenes como `array` de `numpy` para que puedan centrarse en su modelo"
   ]
  },
  {
   "cell_type": "code",
   "execution_count": 1,
   "metadata": {},
   "outputs": [],
   "source": [
    "import pandas as pd\n",
    "import numpy as np\n",
    "import matplotlib.pyplot as plt\n",
    "import seaborn as sns\n",
    "import warnings\n",
    "warnings.filterwarnings('ignore')"
   ]
  },
  {
   "cell_type": "code",
   "execution_count": 3,
   "metadata": {},
   "outputs": [],
   "source": [
    "import os\n",
    "import numpy as np\n",
    "from tensorflow.keras.preprocessing.image import load_img, img_to_array\n",
    "from tensorflow.keras.utils import to_categorical\n",
    "from sklearn.model_selection import train_test_split\n",
    "\n",
    "# Definir el directorio base donde están las carpetas de imágenes\n",
    "base_dir = 'data'\n",
    "\n",
    "# Tamaño al que se redimensionarán las imágenes\n",
    "img_size = (64, 64)  # Todas las imágenes se redimensionarán a 64x64\n",
    "\n",
    "# Función para cargar imágenes y etiquetas\n",
    "def load_images_and_labels(base_dir, img_size):\n",
    "    images = []\n",
    "    labels = []\n",
    "    for label, folder in enumerate(['happy_person_face', 'sad_person_face']): ## Las carpetas que contienen las imágenes deben estar en carpetas con estos nombres\n",
    "        folder_path = os.path.join(base_dir, folder)\n",
    "        for file in os.listdir(folder_path):\n",
    "            if file.endswith(('jpg', 'jpeg', 'png')):\n",
    "                img_path = os.path.join(folder_path, file)\n",
    "                img = load_img(img_path, target_size=img_size)  # Redimensionar al cargar\n",
    "                img = img_to_array(img)\n",
    "                images.append(img)\n",
    "                labels.append(label)\n",
    "    return np.array(images), np.array(labels)\n",
    "\n",
    "# Cargar datos\n",
    "images, labels = load_images_and_labels(base_dir, img_size)\n",
    "\n",
    "# Normalizar imágenes\n",
    "images = images / 255.0\n",
    "\n",
    "# Convertir etiquetas a formato categórico\n",
    "labels = to_categorical(labels)\n",
    "\n",
    "# Dividir los datos en test y train (revisar los shape)\n",
    "x_train, x_test, y_train, y_test = train_test_split(images, labels, test_size=0.2, random_state=42)\n"
   ]
  },
  {
   "cell_type": "markdown",
   "metadata": {},
   "source": [
    "## Pregunta 1: Calentamiento (3 ptos)\n",
    "\n",
    "Tienes que entrenar un modelo de `multilayer perceptron`, o redes neuronales simples para predecir si es que una persona está feliz o no. El número de capas, el optimizador y las epochs las defines tú. Solo tienes que hacer el entrenamiento"
   ]
  },
  {
   "cell_type": "code",
   "execution_count": 10,
   "metadata": {},
   "outputs": [
    {
     "name": "stdout",
     "output_type": "stream",
     "text": [
      "Epoch 1/5\n",
      "\u001b[1m5/5\u001b[0m \u001b[32m━━━━━━━━━━━━━━━━━━━━\u001b[0m\u001b[37m\u001b[0m \u001b[1m0s\u001b[0m 4ms/step - accuracy: 0.4886 - loss: 0.6904  \n",
      "Epoch 2/5\n",
      "\u001b[1m5/5\u001b[0m \u001b[32m━━━━━━━━━━━━━━━━━━━━\u001b[0m\u001b[37m\u001b[0m \u001b[1m0s\u001b[0m 4ms/step - accuracy: 0.4700 - loss: 0.6948 \n",
      "Epoch 3/5\n",
      "\u001b[1m5/5\u001b[0m \u001b[32m━━━━━━━━━━━━━━━━━━━━\u001b[0m\u001b[37m\u001b[0m \u001b[1m0s\u001b[0m 5ms/step - accuracy: 0.6282 - loss: 0.6746 \n",
      "Epoch 4/5\n",
      "\u001b[1m5/5\u001b[0m \u001b[32m━━━━━━━━━━━━━━━━━━━━\u001b[0m\u001b[37m\u001b[0m \u001b[1m0s\u001b[0m 4ms/step - accuracy: 0.5763 - loss: 0.6619 \n",
      "Epoch 5/5\n",
      "\u001b[1m5/5\u001b[0m \u001b[32m━━━━━━━━━━━━━━━━━━━━\u001b[0m\u001b[37m\u001b[0m \u001b[1m0s\u001b[0m 5ms/step - accuracy: 0.5818 - loss: 0.6588 \n"
     ]
    },
    {
     "data": {
      "text/plain": [
       "<keras.src.callbacks.history.History at 0x29d262a4760>"
      ]
     },
     "execution_count": 10,
     "metadata": {},
     "output_type": "execute_result"
    }
   ],
   "source": [
    "### MODELO DNN\n",
    "## Lo primero que hice fue instalar tensorflow en mi PC\n",
    "## Luego las importaciones necesarios\n",
    "\n",
    "from tensorflow.keras import models, layers\n",
    "import keras\n",
    "from sklearn.metrics import accuracy_score\n",
    "\n",
    "\n",
    "model = models.Sequential([\n",
    "    layers.Flatten(input_shape=(64, 64, 3)), # Esto ya es dato (variable img_size)\n",
    "    layers.Dense(128, activation='relu'),\n",
    "    layers.Dense(64, activation='relu'),\n",
    "    layers.Dense(32, activation='relu'),\n",
    "    layers.Dense(1000, activation='relu'), \n",
    "    layers.Dense(2, activation='softmax')   # 2 neuronas para las 2 clases: feliz y triste\n",
    "])\n",
    "\n",
    "\n",
    "# Compilar el modelo\n",
    "opt = keras.optimizers.SGD(learning_rate=0.01)\n",
    "model.compile(optimizer=opt,\n",
    "              loss='categorical_crossentropy',  # ( Función de pérdida ) Cambiado a categorical pero podría funcionar con sparse_categorical_crossentropy\n",
    "              metrics=['accuracy'])\n",
    "\n",
    "# Entrenar el modelo\n",
    "model.fit(x_train, y_train, epochs=5) # 5 iteraciones"
   ]
  },
  {
   "cell_type": "markdown",
   "metadata": {},
   "source": [
    "## Pregunta 2: Entrada (2 ptos)\n",
    "\n",
    "Evalúa el modelo con el dataset de test mostrando claramente la matriz de confusión, el accuracy, la sensibilidad y la especificidad. Además, muestra la curva `ROC` junto con el `AUC` correspondiente. Interpreta las métricas e indica si es un **buen** modelo"
   ]
  },
  {
   "cell_type": "code",
   "execution_count": 13,
   "metadata": {},
   "outputs": [
    {
     "name": "stdout",
     "output_type": "stream",
     "text": [
      "\u001b[1m2/2\u001b[0m \u001b[32m━━━━━━━━━━━━━━━━━━━━\u001b[0m\u001b[37m\u001b[0m \u001b[1m0s\u001b[0m 42ms/step\n"
     ]
    }
   ],
   "source": [
    "# Predicciones\n",
    "predictions = model.predict(x_test)\n",
    "\n",
    "predicted_classes = np.argmax(predictions, axis=1)\n",
    "true_classes = np.argmax(y_test, axis=1)\n"
   ]
  },
  {
   "cell_type": "code",
   "execution_count": 19,
   "metadata": {},
   "outputs": [
    {
     "data": {
      "image/png": "[encoded data removed]",
      "text/plain": [
       "<Figure size 640x480 with 2 Axes>"
      ]
     },
     "metadata": {},
     "output_type": "display_data"
    },
    {
     "name": "stdout",
     "output_type": "stream",
     "text": [
      "Accuracy: 0.6363636363636364\n",
      "Sensibilidad: 0.26666666666666666\n",
      "Especificidad: 0.9444444444444444\n"
     ]
    }
   ],
   "source": [
    "from sklearn.metrics import confusion_matrix, ConfusionMatrixDisplay, accuracy_score, auc\n",
    "\n",
    "# Matriz de confusión\n",
    "cm = confusion_matrix(true_classes, predicted_classes)\n",
    "disp = ConfusionMatrixDisplay(confusion_matrix=cm, display_labels=['Feliz', 'Triste']) # Sólo debemos considerar esos dos valores\n",
    "disp.plot()\n",
    "plt.show()\n",
    "\n",
    "# Accuracy\n",
    "accuracy = accuracy_score(true_classes, predicted_classes)\n",
    "print(f\"Accuracy: {accuracy}\")\n",
    "\n",
    "# Sensibilidad y especificidad\n",
    "TN, FP, FN, TP = cm.ravel()\n",
    "sensibilidad = TP / (TP + FN)\n",
    "especificidad = TN / (TN + FP)\n",
    "print(f\"Sensibilidad: {sensibilidad}\")\n",
    "print(f\"Especificidad: {especificidad}\")\n"
   ]
  },
  {
   "cell_type": "markdown",
   "metadata": {},
   "source": [
    "Accuracy: 0.6363636363636364  -> No es excepcionalmente alto, lo que sugiere que hay margen significativo de mejora (63%).\n",
    "Sensibilidad: 0.26666666666666666 -> Una sensibilidad de 26.7% indica que el modelo solo pudo identificar correctamente aproximadamente el 26.7% de los casos verdaderamente \"felices\". \n",
    "Especificidad: 0.9444444444444444 -> Una especificidad de 94.4% es bastante alta."
   ]
  },
  {
   "cell_type": "code",
   "execution_count": 24,
   "metadata": {},
   "outputs": [
    {
     "data": {
      "image/png": "[encoded data removed]",
      "text/plain": [
       "<Figure size 640x480 with 1 Axes>"
      ]
     },
     "metadata": {},
     "output_type": "display_data"
    },
    {
     "name": "stdout",
     "output_type": "stream",
     "text": [
      "AUC: 0.6055555555555555\n"
     ]
    }
   ],
   "source": [
    "from sklearn.metrics import roc_curve\n",
    "import matplotlib.pyplot as plt\n",
    "\n",
    "probabilidades = []\n",
    "for i in range(predictions.shape[0]):\n",
    "  probabilidades.append(np.argmax(predictions[i,:]))\n",
    "  \n",
    "# ROC y AUC\n",
    "fpr, tpr, thresholds = roc_curve(true_classes, probabilidades)\n",
    "roc_auc = auc(fpr, tpr)\n",
    "\n",
    "plt.figure()\n",
    "plt.plot(fpr, tpr, color='darkorange', label='Curva ROC (área = %0.2f)' % roc_auc)\n",
    "plt.plot([0, 1], [0, 1], color='navy', linestyle='--')\n",
    "plt.xlim([0.0, 1.0])\n",
    "plt.ylim([0.0, 1.05])\n",
    "plt.xlabel('Tasa de Falsos Positivos')\n",
    "plt.ylabel('Tasa de Verdaderos Positivos')\n",
    "plt.title('Característica Operativa del Receptor')\n",
    "plt.legend(loc=\"lower right\")\n",
    "plt.show()\n",
    "\n",
    "print(f\"AUC: {roc_auc}\")\n"
   ]
  },
  {
   "cell_type": "markdown",
   "metadata": {},
   "source": [
    "Un AUC de 0.60555 indica un buen rendimiento general del modelo, mientras que un AUC de 1.0 representa un modelo perfecto. "
   ]
  },
  {
   "cell_type": "markdown",
   "metadata": {},
   "source": [
    "## Pregunta 3: Entrada parte II (2 ptos)\n",
    "\n",
    "Entrena ahora cualquier modelo de boosting. Manipula los hiperparámetros para el entrenamiento no te tome tanto tiempo. Genera las predicciones con test y comparalo con la red neuronal. Establece conclusiones en base a los resultados e indica, para datos de alta dimensionalidad, qué clase de modelos son mejores, los de machine learning tradicional, o los de redes neuronales."
   ]
  },
  {
   "cell_type": "code",
   "execution_count": null,
   "metadata": {},
   "outputs": [],
   "source": [
    "### Escribe tu código acá"
   ]
  },
  {
   "cell_type": "markdown",
   "metadata": {},
   "source": [
    "Escribe tu respuesta teórica aquí"
   ]
  },
  {
   "cell_type": "markdown",
   "metadata": {},
   "source": [
    "## Pregunta 4: Un poco de teoría (3 ptos)\n",
    "\n",
    "Escribe, de manera precisa, cómo deberían ser los inputs para una red neuronal de tipo `multilayer perceptron` o de campas densas. Indica claramente el tipo de preprocesamiento que debe tener y las consideraciones en cuanto a outliers y valores nulos. Responde si es posible tener outliers en el caso de imágenes y, en todo caso, de serlo, cómo poder solucionarlo"
   ]
  },
  {
   "cell_type": "markdown",
   "metadata": {},
   "source": [
    "Escribe tu respuesta teórica aquí"
   ]
  },
  {
   "cell_type": "markdown",
   "metadata": {},
   "source": [
    "Preprocesamiento Necesario:\n",
    "\n",
    "1.- Normalización: Escala los valores de entrada para que estén en un rango similar, típicamente entre 0 y 1.\n",
    "2.- Aplanamiento: Convierte datos multidimensionales (como imágenes) en un vector unidimensional.\n",
    "3.- Manejo de Valores Nulos: Elimina o imputa valores nulos antes de alimentar los datos a la red.\n",
    "4.- Outliers: En imágenes, los outliers podrían ser píxeles extremadamente brillantes o oscuros que no son típicos.\n",
    "\n",
    "\n",
    "Outliers en Imágenes:\n",
    "\n",
    "Es posible tener outliers en imágenes, como píxeles dañados o ruido extremo.\n",
    "Solución: Aplicar técnicas como filtros de suavizado o corrección de píxeles para mitigar estos problemas.\n"
   ]
  },
  {
   "cell_type": "markdown",
   "metadata": {},
   "source": [
    "## Pregunta 5: Plato de fondo (4 ptos)\n",
    "\n",
    "Ahora entrena una red neuronal convolucional. El número de capas, tamaño de kernel, optimizador, epochs y neuronas los decides tú, solamente asegúrate de que no te tome tanto tiempo el entrenamiento. Solamente entrena el modelo"
   ]
  },
  {
   "cell_type": "code",
   "execution_count": 28,
   "metadata": {},
   "outputs": [
    {
     "data": {
      "text/html": [
       "<pre style=\"white-space:pre;overflow-x:auto;line-height:normal;font-family:Menlo,'DejaVu Sans Mono',consolas,'Courier New',monospace\"><span style=\"font-weight: bold\">Model: \"sequential_8\"</span>\n",
       "</pre>\n"
      ],
      "text/plain": [
       "\u001b[1mModel: \"sequential_8\"\u001b[0m\n"
      ]
     },
     "metadata": {},
     "output_type": "display_data"
    },
    {
     "data": {
      "text/html": [
       "<pre style=\"white-space:pre;overflow-x:auto;line-height:normal;font-family:Menlo,'DejaVu Sans Mono',consolas,'Courier New',monospace\">┏━━━━━━━━━━━━━━━━━━━━━━━━━━━━━━━━━┳━━━━━━━━━━━━━━━━━━━━━━━━┳━━━━━━━━━━━━━━━┓\n",
       "┃<span style=\"font-weight: bold\"> Layer (type)                    </span>┃<span style=\"font-weight: bold\"> Output Shape           </span>┃<span style=\"font-weight: bold\">       Param # </span>┃\n",
       "┡━━━━━━━━━━━━━━━━━━━━━━━━━━━━━━━━━╇━━━━━━━━━━━━━━━━━━━━━━━━╇━━━━━━━━━━━━━━━┩\n",
       "│ conv2d_3 (<span style=\"color: #0087ff; text-decoration-color: #0087ff\">Conv2D</span>)               │ (<span style=\"color: #00d7ff; text-decoration-color: #00d7ff\">None</span>, <span style=\"color: #00af00; text-decoration-color: #00af00\">62</span>, <span style=\"color: #00af00; text-decoration-color: #00af00\">62</span>, <span style=\"color: #00af00; text-decoration-color: #00af00\">32</span>)     │           <span style=\"color: #00af00; text-decoration-color: #00af00\">896</span> │\n",
       "├─────────────────────────────────┼────────────────────────┼───────────────┤\n",
       "│ max_pooling2d_3 (<span style=\"color: #0087ff; text-decoration-color: #0087ff\">MaxPooling2D</span>)  │ (<span style=\"color: #00d7ff; text-decoration-color: #00d7ff\">None</span>, <span style=\"color: #00af00; text-decoration-color: #00af00\">31</span>, <span style=\"color: #00af00; text-decoration-color: #00af00\">31</span>, <span style=\"color: #00af00; text-decoration-color: #00af00\">32</span>)     │             <span style=\"color: #00af00; text-decoration-color: #00af00\">0</span> │\n",
       "├─────────────────────────────────┼────────────────────────┼───────────────┤\n",
       "│ conv2d_4 (<span style=\"color: #0087ff; text-decoration-color: #0087ff\">Conv2D</span>)               │ (<span style=\"color: #00d7ff; text-decoration-color: #00d7ff\">None</span>, <span style=\"color: #00af00; text-decoration-color: #00af00\">29</span>, <span style=\"color: #00af00; text-decoration-color: #00af00\">29</span>, <span style=\"color: #00af00; text-decoration-color: #00af00\">64</span>)     │        <span style=\"color: #00af00; text-decoration-color: #00af00\">18,496</span> │\n",
       "├─────────────────────────────────┼────────────────────────┼───────────────┤\n",
       "│ max_pooling2d_4 (<span style=\"color: #0087ff; text-decoration-color: #0087ff\">MaxPooling2D</span>)  │ (<span style=\"color: #00d7ff; text-decoration-color: #00d7ff\">None</span>, <span style=\"color: #00af00; text-decoration-color: #00af00\">14</span>, <span style=\"color: #00af00; text-decoration-color: #00af00\">14</span>, <span style=\"color: #00af00; text-decoration-color: #00af00\">64</span>)     │             <span style=\"color: #00af00; text-decoration-color: #00af00\">0</span> │\n",
       "├─────────────────────────────────┼────────────────────────┼───────────────┤\n",
       "│ conv2d_5 (<span style=\"color: #0087ff; text-decoration-color: #0087ff\">Conv2D</span>)               │ (<span style=\"color: #00d7ff; text-decoration-color: #00d7ff\">None</span>, <span style=\"color: #00af00; text-decoration-color: #00af00\">12</span>, <span style=\"color: #00af00; text-decoration-color: #00af00\">12</span>, <span style=\"color: #00af00; text-decoration-color: #00af00\">128</span>)    │        <span style=\"color: #00af00; text-decoration-color: #00af00\">73,856</span> │\n",
       "├─────────────────────────────────┼────────────────────────┼───────────────┤\n",
       "│ max_pooling2d_5 (<span style=\"color: #0087ff; text-decoration-color: #0087ff\">MaxPooling2D</span>)  │ (<span style=\"color: #00d7ff; text-decoration-color: #00d7ff\">None</span>, <span style=\"color: #00af00; text-decoration-color: #00af00\">6</span>, <span style=\"color: #00af00; text-decoration-color: #00af00\">6</span>, <span style=\"color: #00af00; text-decoration-color: #00af00\">128</span>)      │             <span style=\"color: #00af00; text-decoration-color: #00af00\">0</span> │\n",
       "├─────────────────────────────────┼────────────────────────┼───────────────┤\n",
       "│ flatten_8 (<span style=\"color: #0087ff; text-decoration-color: #0087ff\">Flatten</span>)             │ (<span style=\"color: #00d7ff; text-decoration-color: #00d7ff\">None</span>, <span style=\"color: #00af00; text-decoration-color: #00af00\">4608</span>)           │             <span style=\"color: #00af00; text-decoration-color: #00af00\">0</span> │\n",
       "├─────────────────────────────────┼────────────────────────┼───────────────┤\n",
       "│ dense_37 (<span style=\"color: #0087ff; text-decoration-color: #0087ff\">Dense</span>)                │ (<span style=\"color: #00d7ff; text-decoration-color: #00d7ff\">None</span>, <span style=\"color: #00af00; text-decoration-color: #00af00\">128</span>)            │       <span style=\"color: #00af00; text-decoration-color: #00af00\">589,952</span> │\n",
       "├─────────────────────────────────┼────────────────────────┼───────────────┤\n",
       "│ dropout_1 (<span style=\"color: #0087ff; text-decoration-color: #0087ff\">Dropout</span>)             │ (<span style=\"color: #00d7ff; text-decoration-color: #00d7ff\">None</span>, <span style=\"color: #00af00; text-decoration-color: #00af00\">128</span>)            │             <span style=\"color: #00af00; text-decoration-color: #00af00\">0</span> │\n",
       "├─────────────────────────────────┼────────────────────────┼───────────────┤\n",
       "│ dense_38 (<span style=\"color: #0087ff; text-decoration-color: #0087ff\">Dense</span>)                │ (<span style=\"color: #00d7ff; text-decoration-color: #00d7ff\">None</span>, <span style=\"color: #00af00; text-decoration-color: #00af00\">2</span>)              │           <span style=\"color: #00af00; text-decoration-color: #00af00\">258</span> │\n",
       "└─────────────────────────────────┴────────────────────────┴───────────────┘\n",
       "</pre>\n"
      ],
      "text/plain": [
       "┏━━━━━━━━━━━━━━━━━━━━━━━━━━━━━━━━━┳━━━━━━━━━━━━━━━━━━━━━━━━┳━━━━━━━━━━━━━━━┓\n",
       "┃\u001b[1m \u001b[0m\u001b[1mLayer (type)                   \u001b[0m\u001b[1m \u001b[0m┃\u001b[1m \u001b[0m\u001b[1mOutput Shape          \u001b[0m\u001b[1m \u001b[0m┃\u001b[1m \u001b[0m\u001b[1m      Param #\u001b[0m\u001b[1m \u001b[0m┃\n",
       "┡━━━━━━━━━━━━━━━━━━━━━━━━━━━━━━━━━╇━━━━━━━━━━━━━━━━━━━━━━━━╇━━━━━━━━━━━━━━━┩\n",
       "│ conv2d_3 (\u001b[38;5;33mConv2D\u001b[0m)               │ (\u001b[38;5;45mNone\u001b[0m, \u001b[38;5;34m62\u001b[0m, \u001b[38;5;34m62\u001b[0m, \u001b[38;5;34m32\u001b[0m)     │           \u001b[38;5;34m896\u001b[0m │\n",
       "├─────────────────────────────────┼────────────────────────┼───────────────┤\n",
       "│ max_pooling2d_3 (\u001b[38;5;33mMaxPooling2D\u001b[0m)  │ (\u001b[38;5;45mNone\u001b[0m, \u001b[38;5;34m31\u001b[0m, \u001b[38;5;34m31\u001b[0m, \u001b[38;5;34m32\u001b[0m)     │             \u001b[38;5;34m0\u001b[0m │\n",
       "├─────────────────────────────────┼────────────────────────┼───────────────┤\n",
       "│ conv2d_4 (\u001b[38;5;33mConv2D\u001b[0m)               │ (\u001b[38;5;45mNone\u001b[0m, \u001b[38;5;34m29\u001b[0m, \u001b[38;5;34m29\u001b[0m, \u001b[38;5;34m64\u001b[0m)     │        \u001b[38;5;34m18,496\u001b[0m │\n",
       "├─────────────────────────────────┼────────────────────────┼───────────────┤\n",
       "│ max_pooling2d_4 (\u001b[38;5;33mMaxPooling2D\u001b[0m)  │ (\u001b[38;5;45mNone\u001b[0m, \u001b[38;5;34m14\u001b[0m, \u001b[38;5;34m14\u001b[0m, \u001b[38;5;34m64\u001b[0m)     │             \u001b[38;5;34m0\u001b[0m │\n",
       "├─────────────────────────────────┼────────────────────────┼───────────────┤\n",
       "│ conv2d_5 (\u001b[38;5;33mConv2D\u001b[0m)               │ (\u001b[38;5;45mNone\u001b[0m, \u001b[38;5;34m12\u001b[0m, \u001b[38;5;34m12\u001b[0m, \u001b[38;5;34m128\u001b[0m)    │        \u001b[38;5;34m73,856\u001b[0m │\n",
       "├─────────────────────────────────┼────────────────────────┼───────────────┤\n",
       "│ max_pooling2d_5 (\u001b[38;5;33mMaxPooling2D\u001b[0m)  │ (\u001b[38;5;45mNone\u001b[0m, \u001b[38;5;34m6\u001b[0m, \u001b[38;5;34m6\u001b[0m, \u001b[38;5;34m128\u001b[0m)      │             \u001b[38;5;34m0\u001b[0m │\n",
       "├─────────────────────────────────┼────────────────────────┼───────────────┤\n",
       "│ flatten_8 (\u001b[38;5;33mFlatten\u001b[0m)             │ (\u001b[38;5;45mNone\u001b[0m, \u001b[38;5;34m4608\u001b[0m)           │             \u001b[38;5;34m0\u001b[0m │\n",
       "├─────────────────────────────────┼────────────────────────┼───────────────┤\n",
       "│ dense_37 (\u001b[38;5;33mDense\u001b[0m)                │ (\u001b[38;5;45mNone\u001b[0m, \u001b[38;5;34m128\u001b[0m)            │       \u001b[38;5;34m589,952\u001b[0m │\n",
       "├─────────────────────────────────┼────────────────────────┼───────────────┤\n",
       "│ dropout_1 (\u001b[38;5;33mDropout\u001b[0m)             │ (\u001b[38;5;45mNone\u001b[0m, \u001b[38;5;34m128\u001b[0m)            │             \u001b[38;5;34m0\u001b[0m │\n",
       "├─────────────────────────────────┼────────────────────────┼───────────────┤\n",
       "│ dense_38 (\u001b[38;5;33mDense\u001b[0m)                │ (\u001b[38;5;45mNone\u001b[0m, \u001b[38;5;34m2\u001b[0m)              │           \u001b[38;5;34m258\u001b[0m │\n",
       "└─────────────────────────────────┴────────────────────────┴───────────────┘\n"
      ]
     },
     "metadata": {},
     "output_type": "display_data"
    },
    {
     "data": {
      "text/html": [
       "<pre style=\"white-space:pre;overflow-x:auto;line-height:normal;font-family:Menlo,'DejaVu Sans Mono',consolas,'Courier New',monospace\"><span style=\"font-weight: bold\"> Total params: </span><span style=\"color: #00af00; text-decoration-color: #00af00\">683,458</span> (2.61 MB)\n",
       "</pre>\n"
      ],
      "text/plain": [
       "\u001b[1m Total params: \u001b[0m\u001b[38;5;34m683,458\u001b[0m (2.61 MB)\n"
      ]
     },
     "metadata": {},
     "output_type": "display_data"
    },
    {
     "data": {
      "text/html": [
       "<pre style=\"white-space:pre;overflow-x:auto;line-height:normal;font-family:Menlo,'DejaVu Sans Mono',consolas,'Courier New',monospace\"><span style=\"font-weight: bold\"> Trainable params: </span><span style=\"color: #00af00; text-decoration-color: #00af00\">683,458</span> (2.61 MB)\n",
       "</pre>\n"
      ],
      "text/plain": [
       "\u001b[1m Trainable params: \u001b[0m\u001b[38;5;34m683,458\u001b[0m (2.61 MB)\n"
      ]
     },
     "metadata": {},
     "output_type": "display_data"
    },
    {
     "data": {
      "text/html": [
       "<pre style=\"white-space:pre;overflow-x:auto;line-height:normal;font-family:Menlo,'DejaVu Sans Mono',consolas,'Courier New',monospace\"><span style=\"font-weight: bold\"> Non-trainable params: </span><span style=\"color: #00af00; text-decoration-color: #00af00\">0</span> (0.00 B)\n",
       "</pre>\n"
      ],
      "text/plain": [
       "\u001b[1m Non-trainable params: \u001b[0m\u001b[38;5;34m0\u001b[0m (0.00 B)\n"
      ]
     },
     "metadata": {},
     "output_type": "display_data"
    },
    {
     "name": "stdout",
     "output_type": "stream",
     "text": [
      "Epoch 1/10\n",
      "\u001b[1m5/5\u001b[0m \u001b[32m━━━━━━━━━━━━━━━━━━━━\u001b[0m\u001b[37m\u001b[0m \u001b[1m1s\u001b[0m 68ms/step - accuracy: 0.4883 - loss: 0.7362 - val_accuracy: 0.6667 - val_loss: 0.6851\n",
      "Epoch 2/10\n",
      "\u001b[1m5/5\u001b[0m \u001b[32m━━━━━━━━━━━━━━━━━━━━\u001b[0m\u001b[37m\u001b[0m \u001b[1m0s\u001b[0m 30ms/step - accuracy: 0.5808 - loss: 0.6737 - val_accuracy: 0.5455 - val_loss: 0.6767\n",
      "Epoch 3/10\n",
      "\u001b[1m5/5\u001b[0m \u001b[32m━━━━━━━━━━━━━━━━━━━━\u001b[0m\u001b[37m\u001b[0m \u001b[1m0s\u001b[0m 29ms/step - accuracy: 0.5651 - loss: 0.6661 - val_accuracy: 0.5455 - val_loss: 0.6742\n",
      "Epoch 4/10\n",
      "\u001b[1m5/5\u001b[0m \u001b[32m━━━━━━━━━━━━━━━━━━━━\u001b[0m\u001b[37m\u001b[0m \u001b[1m0s\u001b[0m 29ms/step - accuracy: 0.5963 - loss: 0.6608 - val_accuracy: 0.6061 - val_loss: 0.6703\n",
      "Epoch 5/10\n",
      "\u001b[1m5/5\u001b[0m \u001b[32m━━━━━━━━━━━━━━━━━━━━\u001b[0m\u001b[37m\u001b[0m \u001b[1m0s\u001b[0m 30ms/step - accuracy: 0.6141 - loss: 0.6635 - val_accuracy: 0.6061 - val_loss: 0.6649\n",
      "Epoch 6/10\n",
      "\u001b[1m5/5\u001b[0m \u001b[32m━━━━━━━━━━━━━━━━━━━━\u001b[0m\u001b[37m\u001b[0m \u001b[1m0s\u001b[0m 29ms/step - accuracy: 0.6189 - loss: 0.6454 - val_accuracy: 0.5758 - val_loss: 0.6814\n",
      "Epoch 7/10\n",
      "\u001b[1m5/5\u001b[0m \u001b[32m━━━━━━━━━━━━━━━━━━━━\u001b[0m\u001b[37m\u001b[0m \u001b[1m0s\u001b[0m 29ms/step - accuracy: 0.6339 - loss: 0.6338 - val_accuracy: 0.6970 - val_loss: 0.6527\n",
      "Epoch 8/10\n",
      "\u001b[1m5/5\u001b[0m \u001b[32m━━━━━━━━━━━━━━━━━━━━\u001b[0m\u001b[37m\u001b[0m \u001b[1m0s\u001b[0m 31ms/step - accuracy: 0.7102 - loss: 0.6204 - val_accuracy: 0.6970 - val_loss: 0.6368\n",
      "Epoch 9/10\n",
      "\u001b[1m5/5\u001b[0m \u001b[32m━━━━━━━━━━━━━━━━━━━━\u001b[0m\u001b[37m\u001b[0m \u001b[1m0s\u001b[0m 29ms/step - accuracy: 0.7013 - loss: 0.5827 - val_accuracy: 0.6364 - val_loss: 0.6510\n",
      "Epoch 10/10\n",
      "\u001b[1m5/5\u001b[0m \u001b[32m━━━━━━━━━━━━━━━━━━━━\u001b[0m\u001b[37m\u001b[0m \u001b[1m0s\u001b[0m 29ms/step - accuracy: 0.6187 - loss: 0.6433 - val_accuracy: 0.6061 - val_loss: 0.6649\n"
     ]
    }
   ],
   "source": [
    "from tensorflow.keras.models import Sequential\n",
    "from tensorflow.keras.layers import Conv2D, MaxPooling2D, Flatten, Dense, Dropout\n",
    "\n",
    "# DEFINIMOS LAS CAPAS\n",
    "model = Sequential([\n",
    "    # Primera capa convolucional\n",
    "    Conv2D(32, (3, 3), activation='relu', input_shape=(64, 64, 3)),\n",
    "    MaxPooling2D((2, 2)),\n",
    "    \n",
    "    # Segunda capa convolucional\n",
    "    Conv2D(64, (3, 3), activation='relu'),\n",
    "    MaxPooling2D((2, 2)),\n",
    "    \n",
    "    # Tercera capa convolucional\n",
    "    Conv2D(128, (3, 3), activation='relu'),\n",
    "    MaxPooling2D((2, 2)),\n",
    "    \n",
    "    # Aplanar los resultados para alimentar una DNN\n",
    "    Flatten(),\n",
    "    \n",
    "    # Capa densa con dropout\n",
    "    Dense(128, activation='relu'),\n",
    "    Dropout(0.5),\n",
    "    \n",
    "    # Capa de salida\n",
    "    Dense(2, activation='softmax')\n",
    "])\n",
    "\n",
    "model.compile(\n",
    "    optimizer='adam',  # El optimizador\n",
    "    loss='categorical_crossentropy',  # Función de pérdida (IGUAL QUE ANTES)\n",
    "    metrics=['accuracy']\n",
    ")\n",
    "\n",
    "model.summary()\n",
    "\n",
    "history = model.fit(\n",
    "    x_train, y_train,\n",
    "    epochs=10,  # Número de epochs\n",
    "    batch_size=32,  # Tamaño de batch\n",
    "    validation_data=(x_test, y_test),\n",
    "    verbose=1  # Muestra el progreso del entrenamiento\n",
    ")\n",
    "\n"
   ]
  },
  {
   "cell_type": "markdown",
   "metadata": {},
   "source": [
    "## Pregunta 6: Sobremesa (3 ptos)\n",
    "\n",
    "Evalúa el modelo con el dataset de test mostrando claramente la matriz de confusión, el accuracy, la sensibilidad y la especificidad. Además, muestra la curva `ROC` junto con el `AUC` correspondiente. Interpreta las métricas e indica si es un **buen** modelo. Comparalo con los otros dos modelos e indica cuál es mejor"
   ]
  },
  {
   "cell_type": "code",
   "execution_count": null,
   "metadata": {},
   "outputs": [],
   "source": [
    "### Escribe tu código acá"
   ]
  },
  {
   "cell_type": "markdown",
   "metadata": {},
   "source": [
    "## Pregunta 7: Algo más de teoría (1 ptos)\n",
    "\n",
    "Indica las diferencias entre una red neuronal multicapa (`multilayer perceptron`) y una red neuronal convolucional. Indica claramente cuáles son las ventajas y desventajas de cada una de estas y en qué se especializan"
   ]
  },
  {
   "cell_type": "markdown",
   "metadata": {},
   "source": [
    "Multilayer Perceptron (MLP):\n",
    "\n",
    "1.- Estructura: Está compuesta por capas densas.\n",
    "2.- Uso: Es eficaz para datos de entrada que son independientes de la estructura espacial o temporal.\n",
    "3.- Desventajas: No maneja bien los datos con estructuras espaciales o temporales como las imágenes.\n",
    "4.- Ventajas: Es simple y efectivo para problemas de datos tabulares o vectores.\n",
    "\n",
    "\n",
    "Red Neuronal Convolucional (CNN):\n",
    "\n",
    "1.- Estructura: Utiliza capas convolucionales que detectan patrones espaciales.\n",
    "2.- Uso: Es ideal para datos visuales como imágenes, donde la localización y el contexto de los píxeles son importantes.\n",
    "3.- Desventajas: Es más compleja y computacionalmente intensiva que MLP.\n",
    "4.- Ventajas: Es excelente para aprender jerarquías de patrones en imágenes y datos espaciales."
   ]
  },
  {
   "cell_type": "markdown",
   "metadata": {},
   "source": [
    "Escribe tu respuesta aquí"
   ]
  },
  {
   "cell_type": "markdown",
   "metadata": {},
   "source": [
    "## Pregunta 8: Postre (2 ptos)\n",
    "\n",
    "Indica los problemas que tienen las redes neuronales en general, comparadas con otros modelos como los de boosting, cómo evitarlos y dentro de qué tipo de aprendizaje se encuentran las redes neuronales. Explica, además, el concepto de gradiente descendente y muestra un ejemplo con una función exponencial (usa `Gurobi`)"
   ]
  },
  {
   "cell_type": "markdown",
   "metadata": {},
   "source": [
    "Las redes neuronales, aunque son potentes herramientas de modelado, \n",
    "enfrentan varios desafíos en comparación con otros modelos de aprendizaje automático como los algoritmos de boosting:\n",
    "\n",
    "1.- Overfitting\n",
    "2.- Costo Computacional\n",
    "3.- Dependencia de Datos de Gran Volumen\n",
    "\n",
    "Cómo Evitarlos\n",
    "Regularización: Uso de técnicas como L1, L2, y Dropout para reducir el overfitting.\n",
    "Validación Cruzada: Utilizar la validación cruzada para asegurar que el modelo generaliza bien a nuevos datos.\n",
    "Early Stopping: Detener el entrenamiento tan pronto como el rendimiento en el conjunto de validación comience a decaer.\n",
    "\n",
    "\n",
    "Gradiente Descendente: El gradiente descendente es un algoritmo de optimización utilizado para minimizar una función encontrando iterativamente los valores de los parámetros que conducen a un mínimo local/global."
   ]
  },
  {
   "cell_type": "code",
   "execution_count": 26,
   "metadata": {},
   "outputs": [
    {
     "data": {
      "image/png": "[encoded data removed]",
      "text/plain": [
       "<Figure size 800x400 with 1 Axes>"
      ]
     },
     "metadata": {},
     "output_type": "display_data"
    },
    {
     "name": "stdout",
     "output_type": "stream",
     "text": [
      "El mínimo local se encuentra en x = -4.611684152008885, f(x) = 0.009935072038642878\n"
     ]
    }
   ],
   "source": [
    "#Ejemplo con Función Exponencial\n",
    "\n",
    "import matplotlib.pyplot as plt\n",
    "\n",
    "# FUNCIÓN Y DERIVADA \n",
    "f = lambda x: np.exp(x)\n",
    "df = lambda x: np.exp(x)\n",
    "\n",
    "learning_rate = 0.1\n",
    "precision = 0.0001\n",
    "x_new = 1  # Punto inicial\n",
    "x_old = 0\n",
    "iters = 0\n",
    "max_iters = 1000 # FIN \n",
    "\n",
    "# Array para almacenar valores para visualización\n",
    "x_values, y_values = [], []\n",
    "\n",
    "while abs(x_new - x_old) > precision and iters < max_iters:\n",
    "    x_old = x_new\n",
    "    x_new = x_old - learning_rate * df(x_old)\n",
    "    x_values.append(x_new)\n",
    "    y_values.append(f(x_new))\n",
    "    iters += 1\n",
    "\n",
    "# Gráfica\n",
    "x = np.linspace(min(x_values) - 1, max(x_values) + 1, 400)\n",
    "plt.figure(figsize=(8, 4))\n",
    "plt.plot(x, f(x), label='f(x) = e^x')\n",
    "plt.scatter(x_values, y_values, c='r')\n",
    "plt.title('Gradiente Descendente en f(x) = e^x')\n",
    "plt.xlabel('x')\n",
    "plt.ylabel('f(x)')\n",
    "plt.legend()\n",
    "plt.show()\n",
    "\n",
    "print(f\"El mínimo local se encuentra en x = {x_new}, f(x) = {f(x_new)}\")"
   ]
  },
  {
   "cell_type": "markdown",
   "metadata": {},
   "source": [
    "Escribe tu respuesta teórica aquí"
   ]
  }
 ],
 "metadata": {
  "kernelspec": {
   "display_name": "Python 3",
   "language": "python",
   "name": "python3"
  },
  "language_info": {
   "codemirror_mode": {
    "name": "ipython",
    "version": 3
   },
   "file_extension": ".py",
   "mimetype": "text/x-python",
   "name": "python",
   "nbconvert_exporter": "python",
   "pygments_lexer": "ipython3",
   "version": "3.9.2"
  }
 },
 "nbformat": 4,
 "nbformat_minor": 2
}
